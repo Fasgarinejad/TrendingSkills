{
 "cells": [
  {
   "cell_type": "markdown",
   "metadata": {},
   "source": [
    "resource: https://www.bls.gov/news.release/laus.t01.html"
   ]
  },
  {
   "cell_type": "code",
   "execution_count": 1,
   "metadata": {},
   "outputs": [],
   "source": [
    "import pandas as pd\n",
    "import numpy as np\n",
    "import math\n",
    "from pandas import read_excel\n",
    "import random\n",
    "CA = read_excel(\"California.xlsx\")"
   ]
  },
  {
   "cell_type": "code",
   "execution_count": 2,
   "metadata": {},
   "outputs": [],
   "source": [
    "#filtering out CS jobs\n",
    "CA['Title'] = [CA['Title'].iloc[i].lower() for i in range(CA.shape[0])] #lowering the titles\n",
    "cs_flag = np.zeros(CA.shape[0])\n",
    "for i in range(CA.shape[0]):\n",
    "    if \"computer\" in CA['Title'].iloc[i]:\n",
    "        cs_flag[i] = 1\n",
    "computer = CA[cs_flag==1]\n",
    "#computer"
   ]
  },
  {
   "cell_type": "code",
   "execution_count": 3,
   "metadata": {},
   "outputs": [
    {
     "data": {
      "text/html": [
       "<div>\n",
       "<style scoped>\n",
       "    .dataframe tbody tr th:only-of-type {\n",
       "        vertical-align: middle;\n",
       "    }\n",
       "\n",
       "    .dataframe tbody tr th {\n",
       "        vertical-align: top;\n",
       "    }\n",
       "\n",
       "    .dataframe thead th {\n",
       "        text-align: right;\n",
       "    }\n",
       "</style>\n",
       "<table border=\"1\" class=\"dataframe\">\n",
       "  <thead>\n",
       "    <tr style=\"text-align: right;\">\n",
       "      <th></th>\n",
       "      <th>index</th>\n",
       "      <th>Title</th>\n",
       "      <th>Link</th>\n",
       "      <th>Company</th>\n",
       "      <th>Location</th>\n",
       "      <th>Description</th>\n",
       "      <th>Da</th>\n",
       "      <th>Current_Time</th>\n",
       "    </tr>\n",
       "  </thead>\n",
       "  <tbody>\n",
       "    <tr>\n",
       "      <th>0</th>\n",
       "      <td>1350</td>\n",
       "      <td>computer anlyst/prgmr assoc\\n- job post</td>\n",
       "      <td>https://www.indeed.com/rc/clk?jk=387d447f428df...</td>\n",
       "      <td>United States Postal Service</td>\n",
       "      <td>California</td>\n",
       "      <td>Job details\\nSalary\\n$73,264 a year\\nFull Job ...</td>\n",
       "      <td>2 days ago</td>\n",
       "      <td>2021-06-27 21:43:44.974</td>\n",
       "    </tr>\n",
       "    <tr>\n",
       "      <th>1</th>\n",
       "      <td>1351</td>\n",
       "      <td>computer anlyst/prgmr assoc\\n- job post</td>\n",
       "      <td>https://www.indeed.com/rc/clk?jk=387d447f428df...</td>\n",
       "      <td>United States Postal Service</td>\n",
       "      <td>California</td>\n",
       "      <td>Job details\\nSalary\\n$73,264 a year\\nFull Job ...</td>\n",
       "      <td>4 days ago</td>\n",
       "      <td>2021-06-27 21:43:48.310</td>\n",
       "    </tr>\n",
       "    <tr>\n",
       "      <th>2</th>\n",
       "      <td>1354</td>\n",
       "      <td>computer and network technician\\n- job post</td>\n",
       "      <td>https://www.indeed.com/company/United-States-N...</td>\n",
       "      <td>United States Navy Career Center South Bay</td>\n",
       "      <td>San Jose, CA</td>\n",
       "      <td>Job details\\nSalary\\n$50,000 - $95,000 a year\\...</td>\n",
       "      <td>Active 3 days ago</td>\n",
       "      <td>2021-06-27 21:44:17.980</td>\n",
       "    </tr>\n",
       "    <tr>\n",
       "      <th>3</th>\n",
       "      <td>1711</td>\n",
       "      <td>computer hardware tester\\n- job post</td>\n",
       "      <td>https://www.indeed.com/company/Rica-Recycling/...</td>\n",
       "      <td>Rica Recycling</td>\n",
       "      <td>Hayward, CA 94545</td>\n",
       "      <td>Job details\\nSalary\\n$16 - $18 an hour\\nJob Ty...</td>\n",
       "      <td>Active 9 days ago</td>\n",
       "      <td>2021-06-27 23:26:48.080</td>\n",
       "    </tr>\n",
       "    <tr>\n",
       "      <th>4</th>\n",
       "      <td>2385</td>\n",
       "      <td>computer repair technician\\n- job post</td>\n",
       "      <td>https://www.indeed.com/company/BOWMAN-TECH-SER...</td>\n",
       "      <td>BOWMAN TECH SERVICES</td>\n",
       "      <td>San Jose, CA</td>\n",
       "      <td>Job details\\nSalary\\nFrom $18 an hour\\nJob Typ...</td>\n",
       "      <td>Active 3 days ago</td>\n",
       "      <td>2021-06-28 00:59:36.473</td>\n",
       "    </tr>\n",
       "    <tr>\n",
       "      <th>5</th>\n",
       "      <td>2777</td>\n",
       "      <td>computer anlyst/prgmr assoc\\n- job post</td>\n",
       "      <td>https://www.indeed.com/rc/clk?jk=387d447f428df...</td>\n",
       "      <td>United States Postal Service</td>\n",
       "      <td>California</td>\n",
       "      <td>Job details\\nSalary\\n$73,264 a year\\nFull Job ...</td>\n",
       "      <td>1 day ago</td>\n",
       "      <td>2021-06-28 02:09:58.466</td>\n",
       "    </tr>\n",
       "    <tr>\n",
       "      <th>6</th>\n",
       "      <td>2869</td>\n",
       "      <td>computer hardware tester\\n- job post</td>\n",
       "      <td>https://www.indeed.com/company/Rica-Recycling/...</td>\n",
       "      <td>Rica Recycling</td>\n",
       "      <td>Hayward, CA 94545</td>\n",
       "      <td>Job details\\nSalary\\n$16 - $18 an hour\\nJob Ty...</td>\n",
       "      <td>4 days ago</td>\n",
       "      <td>2021-06-28 02:22:57.693</td>\n",
       "    </tr>\n",
       "    <tr>\n",
       "      <th>7</th>\n",
       "      <td>5126</td>\n",
       "      <td>computer support specialist – registered appre...</td>\n",
       "      <td>https://www.indeed.com/rc/clk?jk=90dadbf6ebe51...</td>\n",
       "      <td>RED KNIGHT SOLUTIONS, LLC</td>\n",
       "      <td>Menlo Park, CA 94025</td>\n",
       "      <td>Job details\\nJob Type\\nApprenticeship\\nFull Jo...</td>\n",
       "      <td>1 day ago</td>\n",
       "      <td>2021-07-01 18:09:44.687</td>\n",
       "    </tr>\n",
       "    <tr>\n",
       "      <th>8</th>\n",
       "      <td>9450</td>\n",
       "      <td>computer support specialist – registered appre...</td>\n",
       "      <td>https://www.indeed.com/rc/clk?jk=90dadbf6ebe51...</td>\n",
       "      <td>RED KNIGHT SOLUTIONS, LLC</td>\n",
       "      <td>Menlo Park, CA 94025</td>\n",
       "      <td>Job details\\nJob Type\\nApprenticeship\\nFull Jo...</td>\n",
       "      <td>2 days ago</td>\n",
       "      <td>2021-07-02 20:33:48.267</td>\n",
       "    </tr>\n",
       "    <tr>\n",
       "      <th>9</th>\n",
       "      <td>12854</td>\n",
       "      <td>delivery driver $21.50 / hr\\n- job post</td>\n",
       "      <td>https://www.indeed.com/pagead/clk?mo=r&amp;ad=-6NY...</td>\n",
       "      <td>On Point Logistic Solutions, LLC</td>\n",
       "      <td>South San Francisco, CA 94080</td>\n",
       "      <td>Urgently hiring\\nJob details\\nSalary\\n$21 - $2...</td>\n",
       "      <td>Active 2 days ago</td>\n",
       "      <td>2021-07-03 17:22:49.342</td>\n",
       "    </tr>\n",
       "  </tbody>\n",
       "</table>\n",
       "</div>"
      ],
      "text/plain": [
       "   index                                              Title  \\\n",
       "0   1350            computer anlyst/prgmr assoc\\n- job post   \n",
       "1   1351            computer anlyst/prgmr assoc\\n- job post   \n",
       "2   1354        computer and network technician\\n- job post   \n",
       "3   1711               computer hardware tester\\n- job post   \n",
       "4   2385             computer repair technician\\n- job post   \n",
       "5   2777            computer anlyst/prgmr assoc\\n- job post   \n",
       "6   2869               computer hardware tester\\n- job post   \n",
       "7   5126  computer support specialist – registered appre...   \n",
       "8   9450  computer support specialist – registered appre...   \n",
       "9  12854            delivery driver $21.50 / hr\\n- job post   \n",
       "\n",
       "                                                Link  \\\n",
       "0  https://www.indeed.com/rc/clk?jk=387d447f428df...   \n",
       "1  https://www.indeed.com/rc/clk?jk=387d447f428df...   \n",
       "2  https://www.indeed.com/company/United-States-N...   \n",
       "3  https://www.indeed.com/company/Rica-Recycling/...   \n",
       "4  https://www.indeed.com/company/BOWMAN-TECH-SER...   \n",
       "5  https://www.indeed.com/rc/clk?jk=387d447f428df...   \n",
       "6  https://www.indeed.com/company/Rica-Recycling/...   \n",
       "7  https://www.indeed.com/rc/clk?jk=90dadbf6ebe51...   \n",
       "8  https://www.indeed.com/rc/clk?jk=90dadbf6ebe51...   \n",
       "9  https://www.indeed.com/pagead/clk?mo=r&ad=-6NY...   \n",
       "\n",
       "                                      Company                       Location  \\\n",
       "0                United States Postal Service                     California   \n",
       "1                United States Postal Service                     California   \n",
       "2  United States Navy Career Center South Bay                   San Jose, CA   \n",
       "3                              Rica Recycling              Hayward, CA 94545   \n",
       "4                        BOWMAN TECH SERVICES                   San Jose, CA   \n",
       "5                United States Postal Service                     California   \n",
       "6                              Rica Recycling              Hayward, CA 94545   \n",
       "7                   RED KNIGHT SOLUTIONS, LLC           Menlo Park, CA 94025   \n",
       "8                   RED KNIGHT SOLUTIONS, LLC           Menlo Park, CA 94025   \n",
       "9            On Point Logistic Solutions, LLC  South San Francisco, CA 94080   \n",
       "\n",
       "                                         Description                 Da  \\\n",
       "0  Job details\\nSalary\\n$73,264 a year\\nFull Job ...         2 days ago   \n",
       "1  Job details\\nSalary\\n$73,264 a year\\nFull Job ...         4 days ago   \n",
       "2  Job details\\nSalary\\n$50,000 - $95,000 a year\\...  Active 3 days ago   \n",
       "3  Job details\\nSalary\\n$16 - $18 an hour\\nJob Ty...  Active 9 days ago   \n",
       "4  Job details\\nSalary\\nFrom $18 an hour\\nJob Typ...  Active 3 days ago   \n",
       "5  Job details\\nSalary\\n$73,264 a year\\nFull Job ...          1 day ago   \n",
       "6  Job details\\nSalary\\n$16 - $18 an hour\\nJob Ty...         4 days ago   \n",
       "7  Job details\\nJob Type\\nApprenticeship\\nFull Jo...          1 day ago   \n",
       "8  Job details\\nJob Type\\nApprenticeship\\nFull Jo...         2 days ago   \n",
       "9  Urgently hiring\\nJob details\\nSalary\\n$21 - $2...  Active 2 days ago   \n",
       "\n",
       "              Current_Time  \n",
       "0  2021-06-27 21:43:44.974  \n",
       "1  2021-06-27 21:43:48.310  \n",
       "2  2021-06-27 21:44:17.980  \n",
       "3  2021-06-27 23:26:48.080  \n",
       "4  2021-06-28 00:59:36.473  \n",
       "5  2021-06-28 02:09:58.466  \n",
       "6  2021-06-28 02:22:57.693  \n",
       "7  2021-07-01 18:09:44.687  \n",
       "8  2021-07-02 20:33:48.267  \n",
       "9  2021-07-03 17:22:49.342  "
      ]
     },
     "execution_count": 3,
     "metadata": {},
     "output_type": "execute_result"
    }
   ],
   "source": [
    "#choosing 10 out of the computer related job titles and storing in sample_ccomputer\n",
    "sample_indices = [1350, 1351, 1354, 1711, 2385, 2777, 2869, 5126, 9450, 12854]\n",
    "sample_computer = CA[CA.index.isin(sample_indices)]\n",
    "sample_computer.reset_index(drop=False)"
   ]
  },
  {
   "cell_type": "code",
   "execution_count": 4,
   "metadata": {},
   "outputs": [],
   "source": [
    "#aggregating each of the above 10 jobs title+location+description and storing in separate files\n",
    "for i in range(len(sample_indices)):\n",
    "    with open(\"sample_job_{}.txt\".format(i+1), \"w\") as text_file:\n",
    "        print(\"Title: {} \\n Location: {} \\n Description: {}\".format(sample_computer.iloc[i].Title, sample_computer.iloc[i].Location, sample_computer.iloc[i].Description), file=text_file)"
   ]
  },
  {
   "cell_type": "code",
   "execution_count": 5,
   "metadata": {},
   "outputs": [],
   "source": [
    "#reading one of the stored files\n",
    "#!ls"
   ]
  },
  {
   "cell_type": "code",
   "execution_count": 6,
   "metadata": {},
   "outputs": [],
   "source": [
    "with open(\"sample_job_1.txt\") as txt:\n",
    "    lines_sample_job_1 = txt.readlines()"
   ]
  },
  {
   "cell_type": "code",
   "execution_count": 7,
   "metadata": {},
   "outputs": [],
   "source": [
    "#lines_sample_job_1"
   ]
  },
  {
   "cell_type": "code",
   "execution_count": 10,
   "metadata": {},
   "outputs": [
    {
     "data": {
      "text/plain": [
       "246"
      ]
     },
     "execution_count": 10,
     "metadata": {},
     "output_type": "execute_result"
    }
   ],
   "source": [
    "len(lines_sample_job_1)"
   ]
  },
  {
   "cell_type": "code",
   "execution_count": 11,
   "metadata": {},
   "outputs": [
    {
     "data": {
      "text/plain": [
       "'Title: computer anlyst/prgmr assoc\\n'"
      ]
     },
     "execution_count": 11,
     "metadata": {},
     "output_type": "execute_result"
    }
   ],
   "source": [
    "lines_sample_job_1[0]"
   ]
  },
  {
   "cell_type": "code",
   "execution_count": 29,
   "metadata": {},
   "outputs": [],
   "source": [
    "#!pip install yake"
   ]
  },
  {
   "cell_type": "markdown",
   "metadata": {},
   "source": [
    "<span style=\"color:orange; font-size:16px;\">YAKE</span>"
   ]
  },
  {
   "cell_type": "code",
   "execution_count": 14,
   "metadata": {},
   "outputs": [],
   "source": [
    "import yake"
   ]
  },
  {
   "cell_type": "code",
   "execution_count": 42,
   "metadata": {},
   "outputs": [],
   "source": [
    "kw_extractor = yake.KeywordExtractor()\n",
    "text = \"\"\n",
    "for i in lines_sample_job_1:\n",
    "    text += i\n",
    "language = \"en\"\n",
    "max_ngram_size = 4\n",
    "deduplication_threshold = 0.1 # limit the duplication of words in different keywords. You can set the deduplication_threshold value to 0.1 to avoid the repetition of words in keywords. If you set the deduplication_threshold value to 0.9, then repetition of words is allowed in keywords.\n",
    "numOfKeywords = 30\n",
    "custom_kw_extractor = yake.KeywordExtractor(lan=language, n=max_ngram_size, dedupLim=deduplication_threshold, top=numOfKeywords, features=None)\n",
    "keywords = custom_kw_extractor.extract_keywords(text)"
   ]
  },
  {
   "cell_type": "code",
   "execution_count": 43,
   "metadata": {},
   "outputs": [
    {
     "data": {
      "text/plain": [
       "[('United States Postal Service', 0.0012234543877767173),\n",
       " ('ASSOC Facility Location SAN', 0.00992944969631185),\n",
       " ('job', 0.02215130196484258),\n",
       " ('prgmr', 0.07002626108483603),\n",
       " ('Check', 0.07394819245027517),\n",
       " ('KSA', 0.22753114501638627),\n",
       " ('day', 0.24880129273247756),\n",
       " ('FBI', 0.4818209146152265),\n",
       " ('SQL', 0.5172375874282806),\n",
       " ('08:00', 0.6895031816511311),\n",
       " ('add', 0.7976228389678056)]"
      ]
     },
     "execution_count": 43,
     "metadata": {},
     "output_type": "execute_result"
    }
   ],
   "source": [
    "keywords"
   ]
  },
  {
   "cell_type": "code",
   "execution_count": 37,
   "metadata": {},
   "outputs": [
    {
     "data": {
      "text/plain": [
       "True"
      ]
     },
     "execution_count": 37,
     "metadata": {},
     "output_type": "execute_result"
    }
   ],
   "source": [
    "\"SQL\" in text"
   ]
  },
  {
   "cell_type": "markdown",
   "metadata": {},
   "source": [
    "<span style=\"color:orange; font-size:16px;\">rake NLTK</span>"
   ]
  },
  {
   "cell_type": "code",
   "execution_count": 28,
   "metadata": {},
   "outputs": [],
   "source": [
    "#!pip install rake_nltk"
   ]
  },
  {
   "cell_type": "code",
   "execution_count": 45,
   "metadata": {},
   "outputs": [
    {
     "data": {
      "text/plain": [
       "559"
      ]
     },
     "execution_count": 45,
     "metadata": {},
     "output_type": "execute_result"
    }
   ],
   "source": [
    "from rake_nltk import Rake\n",
    "rake_nltk_var = Rake()\n",
    "rake_nltk_var.extract_keywords_from_text(text)\n",
    "keyword_extracted = rake_nltk_var.get_ranked_phrases()\n",
    "len(keyword_extracted)"
   ]
  },
  {
   "cell_type": "code",
   "execution_count": 46,
   "metadata": {},
   "outputs": [
    {
     "data": {
      "text/plain": [
       "False"
      ]
     },
     "execution_count": 46,
     "metadata": {},
     "output_type": "execute_result"
    }
   ],
   "source": [
    "\"SQL\" in keyword_extracted"
   ]
  },
  {
   "cell_type": "markdown",
   "metadata": {},
   "source": [
    "<span style=\"color:orange; font-size:16px;\">gensim</span>"
   ]
  },
  {
   "cell_type": "code",
   "execution_count": 33,
   "metadata": {},
   "outputs": [
    {
     "name": "stdout",
     "output_type": "stream",
     "text": [
      "applicants\n",
      "application\n",
      "applications\n",
      "applicant\n",
      "information\n",
      "programs\n",
      "programming\n",
      "program\n",
      "employer\n",
      "employment\n",
      "experience\n",
      "required\n",
      "requirement\n",
      "postal\n",
      "abilities\n",
      "ability\n",
      "opportunity\n",
      "opportunities\n",
      "development\n",
      "usps\n",
      "software\n",
      "developing coding\n",
      "service\n",
      "job post\n",
      "code\n",
      "codes\n",
      "position\n",
      "positions\n",
      "requires qualification\n",
      "requirements listed\n",
      "process\n",
      "processes\n",
      "work\n",
      "working\n",
      "functional\n",
      "function\n",
      "current\n",
      "check\n",
      "emailed\n",
      "email\n",
      "specifications\n",
      "school\n",
      "plan\n",
      "planning\n",
      "resided worked\n",
      "provides\n",
      "background checks\n",
      "preparing\n",
      "prepare\n",
      "prepared\n",
      "prepares\n",
      "veterans\n",
      "veteran\n",
      "relational\n",
      "non\n",
      "days\n",
      "day\n",
      "knowledge\n",
      "education\n",
      "educational\n",
      "analysts\n",
      "analyst\n",
      "resident\n",
      "residency\n",
      "states\n",
      "state\n",
      "description\n",
      "descriptions\n",
      "needs\n",
      "needed\n",
      "assisting\n",
      "assist\n",
      "assists\n",
      "correspondence\n",
      "owing\n",
      "time\n",
      "screening\n",
      "screenings\n",
      "posting\n",
      "posted\n",
      "date\n",
      "benefit\n",
      "benefits\n",
      "special\n",
      "list\n",
      "selective\n",
      "selection\n",
      "selecting\n",
      "assoc\n",
      "salary\n",
      "location\n",
      "supervision\n",
      "following\n",
      "follow\n",
      "requested\n",
      "requests\n",
      "request\n",
      "web\n",
      "individual\n",
      "individuals\n",
      "leave\n",
      "successful\n",
      "persons\n",
      "person\n",
      "corps\n",
      "participant\n",
      "participate\n",
      "systems\n",
      "standard\n",
      "asc\n"
     ]
    }
   ],
   "source": [
    "from gensim.summarization import keywords\n",
    "print(keywords(text))"
   ]
  },
  {
   "cell_type": "code",
   "execution_count": null,
   "metadata": {},
   "outputs": [],
   "source": []
  }
 ],
 "metadata": {
  "kernelspec": {
   "display_name": "Python 3",
   "language": "python",
   "name": "python3"
  },
  "language_info": {
   "codemirror_mode": {
    "name": "ipython",
    "version": 3
   },
   "file_extension": ".py",
   "mimetype": "text/x-python",
   "name": "python",
   "nbconvert_exporter": "python",
   "pygments_lexer": "ipython3",
   "version": "3.8.3"
  }
 },
 "nbformat": 4,
 "nbformat_minor": 4
}
